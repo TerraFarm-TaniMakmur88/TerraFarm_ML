{
 "cells": [
  {
   "cell_type": "markdown",
   "metadata": {},
   "source": [
    "# Setup"
   ]
  },
  {
   "cell_type": "code",
   "execution_count": 2,
   "metadata": {},
   "outputs": [],
   "source": [
    "import pandas as pd\n",
    "import numpy as np\n",
    "import requests\n",
    "import os\n",
    "import io"
   ]
  },
  {
   "cell_type": "markdown",
   "metadata": {},
   "source": [
    "# Program"
   ]
  },
  {
   "cell_type": "markdown",
   "metadata": {},
   "source": [
    "## Configuration"
   ]
  },
  {
   "cell_type": "code",
   "execution_count": 3,
   "metadata": {},
   "outputs": [],
   "source": [
    "latitudes = np.arange(-11.1625, 6.1088, 0.5)\n",
    "longitudes = np.arange(94.4095, 141.0788, 0.5)\n",
    "\n",
    "output = \"data/raw/\" \n",
    "\n",
    "# Create a list of coordinates\n",
    "coordinates = [(lat, lon) for lat in latitudes for lon in longitudes]\n",
    "\n",
    "# Parameters to download\n",
    "parameter = 'T2M,WS2M,RH2M,PRECTOTCORR'\n",
    "\n",
    "# Select the start date, for example, the first day of the year 2023\n",
    "start_day = '20231003'\n",
    "\n",
    "# Select the end date, for example, the current date\n",
    "end_day = '20241002'\n",
    "\n",
    "# URL for the query, which will download the data in CSV format\n",
    "base_url = r\"https://power.larc.nasa.gov/api/temporal/daily/point?parameters={parameter}&community=RE&longitude={longitude}&latitude={latitude}&start={start_day}&end={end_day}&format=CSV\""
   ]
  },
  {
   "cell_type": "markdown",
   "metadata": {},
   "source": [
    "## Get Data"
   ]
  },
  {
   "cell_type": "code",
   "execution_count": 4,
   "metadata": {},
   "outputs": [],
   "source": [
    "columns = [\"LAT\", \"LONG\", \"YEAR\",\"MO\", \"DY\", \"HR\", \"T2M\", \"WS2M\" ,\"RH2M\" ,\"PRECTOTCORR\"]\n",
    "\n",
    "weather_df = pd.DataFrame() \n",
    "\n",
    "\n",
    "dataframe=[]\n",
    "it = 0"
   ]
  },
  {
   "cell_type": "code",
   "execution_count": 4,
   "metadata": {},
   "outputs": [
    {
     "name": "stdout",
     "output_type": "stream",
     "text": [
      "94\n"
     ]
    }
   ],
   "source": [
    "print(len(longitudes))"
   ]
  },
  {
   "cell_type": "code",
   "execution_count": 5,
   "metadata": {},
   "outputs": [],
   "source": [
    "def retrieve_data(lat):\n",
    "    weather_df = pd.DataFrame() \n",
    "    for longitude in longitudes:\n",
    "\n",
    "        # Forms the query URL\n",
    "        api_request_url = base_url.format(longitude=longitude, latitude=lat, parameter=parameter, start_day=start_day, end_day=end_day) \n",
    "        # Makes the API query\n",
    "        response = requests.get(url=api_request_url, verify=True, timeout=30.00) \n",
    "\n",
    "        # If the query was successful, save the file in the output folder\n",
    "        if response.status_code == 200:\n",
    "            content = response.content.decode('utf-8')\n",
    "            header, dataset = content.split(\"-END HEADER-\")\n",
    "            dataset = dataset.strip()\n",
    "\n",
    "            df = pd.read_csv(io.StringIO(dataset))\n",
    "            df[\"LAT\"] = lat\n",
    "            df[\"LONG\"] = longitude\n",
    "            \n",
    "            weather_df = pd.concat([weather_df, df], axis=0, ignore_index=True)\n",
    "\n",
    "        else:\n",
    "            print(f\"Error: {response.status_code} - {response.text}\")\n",
    "    print(f\"write to data/daily/data_{lat}_{longitude}.csv\")   \n",
    "    weather_df.to_csv(f\"../data/daily/data_{lat}_{longitude}.csv\")\n"
   ]
  },
  {
   "cell_type": "code",
   "execution_count": 6,
   "metadata": {},
   "outputs": [],
   "source": [
    "import threading\n",
    "import time\n",
    "\n",
    "threads = []"
   ]
  },
  {
   "cell_type": "code",
   "execution_count": 6,
   "metadata": {},
   "outputs": [
    {
     "name": "stdout",
     "output_type": "stream",
     "text": [
      "write to data/daily/data_-11.1625_140.90949999999998.csv\n",
      "write to data/daily/data_-10.1625_140.90949999999998.csv\n",
      "write to data/daily/data_-10.6625_140.90949999999998.csv\n",
      "write to data/daily/data_-9.1625_140.90949999999998.csv\n",
      "write to data/daily/data_-9.6625_140.90949999999998.csv\n"
     ]
    }
   ],
   "source": [
    "# Create and start 5 threads\n",
    "for lat in range (5):\n",
    "    thread = threading.Thread(target=retrieve_data, args=(latitudes[lat],))\n",
    "    threads.append(thread)\n",
    "    thread.start()\n",
    "\n",
    "# Wait for all threads to complete\n",
    "for thread in threads:\n",
    "    thread.join()"
   ]
  },
  {
   "cell_type": "code",
   "execution_count": 7,
   "metadata": {},
   "outputs": [],
   "source": [
    "threads = []"
   ]
  },
  {
   "cell_type": "code",
   "execution_count": 8,
   "metadata": {},
   "outputs": [
    {
     "name": "stdout",
     "output_type": "stream",
     "text": [
      "write to data/daily/data_-7.6625_140.90949999999998.csv\n",
      "write to data/daily/data_-7.1625_140.90949999999998.csv\n",
      "write to data/daily/data_-6.6625_140.90949999999998.csv\n",
      "write to data/daily/data_-8.6625_140.90949999999998.csv\n",
      "write to data/daily/data_-8.1625_140.90949999999998.csv\n"
     ]
    }
   ],
   "source": [
    "# Create and start 5 threads\n",
    "for lat in range (5):\n",
    "    thread = threading.Thread(target=retrieve_data, args=(latitudes[5+lat],))\n",
    "    threads.append(thread)\n",
    "    thread.start()\n",
    "\n",
    "# Wait for all threads to complete\n",
    "for thread in threads:\n",
    "    thread.join()"
   ]
  },
  {
   "cell_type": "code",
   "execution_count": 17,
   "metadata": {},
   "outputs": [],
   "source": [
    "threads = []"
   ]
  },
  {
   "cell_type": "code",
   "execution_count": 7,
   "metadata": {},
   "outputs": [
    {
     "name": "stdout",
     "output_type": "stream",
     "text": [
      "write to data/daily/data_-4.1625_140.90949999999998.csv\n",
      "write to data/daily/data_-5.6625_140.90949999999998.csv\n",
      "write to data/daily/data_-6.1625_140.90949999999998.csv\n",
      "write to data/daily/data_-4.6625_140.90949999999998.csv\n",
      "write to data/daily/data_-5.1625_140.90949999999998.csv\n"
     ]
    }
   ],
   "source": [
    "# Create and start 5 threads\n",
    "for lat in range (5):\n",
    "    thread = threading.Thread(target=retrieve_data, args=(latitudes[10+lat],))\n",
    "    threads.append(thread)\n",
    "    thread.start()\n",
    "\n",
    "# Wait for all threads to complete\n",
    "for thread in threads:\n",
    "    thread.join()"
   ]
  },
  {
   "cell_type": "code",
   "execution_count": 8,
   "metadata": {},
   "outputs": [
    {
     "name": "stdout",
     "output_type": "stream",
     "text": [
      "write to data/daily/data_-3.1624999999999996_140.90949999999998.csv\n",
      "write to data/daily/data_-2.1624999999999996_140.90949999999998.csv\n",
      "write to data/daily/data_-3.6624999999999996_140.90949999999998.csv\n",
      "write to data/daily/data_-1.6624999999999996_140.90949999999998.csv\n",
      "write to data/daily/data_-2.6624999999999996_140.90949999999998.csv\n"
     ]
    }
   ],
   "source": [
    "threads = []\n",
    "# Create and start 5 threads\n",
    "for lat in range (5):\n",
    "    thread = threading.Thread(target=retrieve_data, args=(latitudes[15+lat],))\n",
    "    threads.append(thread)\n",
    "    thread.start()\n",
    "\n",
    "# Wait for all threads to complete\n",
    "for thread in threads:\n",
    "    thread.join()"
   ]
  },
  {
   "cell_type": "code",
   "execution_count": 9,
   "metadata": {},
   "outputs": [
    {
     "name": "stdout",
     "output_type": "stream",
     "text": [
      "write to data/daily/data_0.8375000000000004_140.90949999999998.csv\n",
      "write to data/daily/data_0.33750000000000036_140.90949999999998.csv\n",
      "write to data/daily/data_-0.6624999999999996_140.90949999999998.csv\n",
      "write to data/daily/data_-0.16249999999999964_140.90949999999998.csv\n",
      "write to data/daily/data_-1.1624999999999996_140.90949999999998.csv\n"
     ]
    }
   ],
   "source": [
    "threads = []\n",
    "# Create and start 5 threads\n",
    "for lat in range (5):\n",
    "    thread = threading.Thread(target=retrieve_data, args=(latitudes[20+lat],))\n",
    "    threads.append(thread)\n",
    "    thread.start()\n",
    "\n",
    "# Wait for all threads to complete\n",
    "for thread in threads:\n",
    "    thread.join()"
   ]
  },
  {
   "cell_type": "code",
   "execution_count": 10,
   "metadata": {},
   "outputs": [
    {
     "name": "stdout",
     "output_type": "stream",
     "text": [
      "write to data/daily/data_1.8375000000000004_140.90949999999998.csv\n",
      "write to data/daily/data_2.8375000000000004_140.90949999999998.csv\n",
      "write to data/daily/data_3.3375000000000004_140.90949999999998.csv\n",
      "write to data/daily/data_1.3375000000000004_140.90949999999998.csv\n",
      "write to data/daily/data_2.3375000000000004_140.90949999999998.csv\n"
     ]
    }
   ],
   "source": [
    "threads = []\n",
    "# Create and start 5 threads\n",
    "for lat in range (5):\n",
    "    thread = threading.Thread(target=retrieve_data, args=(latitudes[25+lat],))\n",
    "    threads.append(thread)\n",
    "    thread.start()\n",
    "\n",
    "# Wait for all threads to complete\n",
    "for thread in threads:\n",
    "    thread.join()"
   ]
  },
  {
   "cell_type": "code",
   "execution_count": 11,
   "metadata": {},
   "outputs": [
    {
     "name": "stdout",
     "output_type": "stream",
     "text": [
      "write to data/daily/data_3.8375000000000004_140.90949999999998.csv\n",
      "write to data/daily/data_4.3375_140.90949999999998.csv\n",
      "write to data/daily/data_5.3375_140.90949999999998.csv\n",
      "write to data/daily/data_4.8375_140.90949999999998.csv\n",
      "write to data/daily/data_5.8375_140.90949999999998.csv\n"
     ]
    }
   ],
   "source": [
    "threads = []\n",
    "# Create and start 5 threads\n",
    "for lat in range (5):\n",
    "    thread = threading.Thread(target=retrieve_data, args=(latitudes[30+lat],))\n",
    "    threads.append(thread)\n",
    "    thread.start()\n",
    "\n",
    "# Wait for all threads to complete\n",
    "for thread in threads:\n",
    "    thread.join()"
   ]
  },
  {
   "cell_type": "markdown",
   "metadata": {},
   "source": [
    "## Merge Data"
   ]
  },
  {
   "cell_type": "code",
   "execution_count": 12,
   "metadata": {},
   "outputs": [
    {
     "name": "stdout",
     "output_type": "stream",
     "text": [
      "The history saving thread hit an unexpected error (OperationalError('database or disk is full')).History will not be written to the database.\n"
     ]
    }
   ],
   "source": [
    "weather_df = pd.DataFrame()\n",
    "folder_path = \"../data/daily\"\n",
    "for filename in os.listdir(folder_path):\n",
    "    df = pd.read_csv(folder_path+\"/\"+filename)\n",
    "    weather_df = pd.concat([weather_df, df], axis=0, ignore_index=True)"
   ]
  },
  {
   "cell_type": "code",
   "execution_count": 16,
   "metadata": {},
   "outputs": [],
   "source": [
    "weather_df.drop(columns=\"Unnamed: 0\").to_csv(\"../data/final/oneyear_daily_data.csv\", index=False)"
   ]
  },
  {
   "cell_type": "markdown",
   "metadata": {},
   "source": [
    "## EDA"
   ]
  },
  {
   "cell_type": "code",
   "execution_count": 15,
   "metadata": {},
   "outputs": [],
   "source": [
    "one_year_data = pd.read_csv(\"../data/final/oneyear_data.csv\")"
   ]
  },
  {
   "cell_type": "code",
   "execution_count": 16,
   "metadata": {},
   "outputs": [
    {
     "data": {
      "text/html": [
       "<div>\n",
       "<style scoped>\n",
       "    .dataframe tbody tr th:only-of-type {\n",
       "        vertical-align: middle;\n",
       "    }\n",
       "\n",
       "    .dataframe tbody tr th {\n",
       "        vertical-align: top;\n",
       "    }\n",
       "\n",
       "    .dataframe thead th {\n",
       "        text-align: right;\n",
       "    }\n",
       "</style>\n",
       "<table border=\"1\" class=\"dataframe\">\n",
       "  <thead>\n",
       "    <tr style=\"text-align: right;\">\n",
       "      <th></th>\n",
       "      <th>YEAR</th>\n",
       "      <th>MO</th>\n",
       "      <th>DY</th>\n",
       "      <th>HR</th>\n",
       "      <th>T2M</th>\n",
       "      <th>WS2M</th>\n",
       "      <th>RH2M</th>\n",
       "      <th>PRECTOTCORR</th>\n",
       "      <th>LAT</th>\n",
       "      <th>LONG</th>\n",
       "    </tr>\n",
       "  </thead>\n",
       "  <tbody>\n",
       "    <tr>\n",
       "      <th>0</th>\n",
       "      <td>2023</td>\n",
       "      <td>10</td>\n",
       "      <td>3</td>\n",
       "      <td>0</td>\n",
       "      <td>27.31</td>\n",
       "      <td>6.12</td>\n",
       "      <td>75.62</td>\n",
       "      <td>0.01</td>\n",
       "      <td>-0.1625</td>\n",
       "      <td>94.4095</td>\n",
       "    </tr>\n",
       "    <tr>\n",
       "      <th>1</th>\n",
       "      <td>2023</td>\n",
       "      <td>10</td>\n",
       "      <td>3</td>\n",
       "      <td>1</td>\n",
       "      <td>27.23</td>\n",
       "      <td>5.98</td>\n",
       "      <td>75.44</td>\n",
       "      <td>0.01</td>\n",
       "      <td>-0.1625</td>\n",
       "      <td>94.4095</td>\n",
       "    </tr>\n",
       "    <tr>\n",
       "      <th>2</th>\n",
       "      <td>2023</td>\n",
       "      <td>10</td>\n",
       "      <td>3</td>\n",
       "      <td>2</td>\n",
       "      <td>27.18</td>\n",
       "      <td>5.88</td>\n",
       "      <td>75.12</td>\n",
       "      <td>0.00</td>\n",
       "      <td>-0.1625</td>\n",
       "      <td>94.4095</td>\n",
       "    </tr>\n",
       "    <tr>\n",
       "      <th>3</th>\n",
       "      <td>2023</td>\n",
       "      <td>10</td>\n",
       "      <td>3</td>\n",
       "      <td>3</td>\n",
       "      <td>27.15</td>\n",
       "      <td>5.99</td>\n",
       "      <td>75.19</td>\n",
       "      <td>0.01</td>\n",
       "      <td>-0.1625</td>\n",
       "      <td>94.4095</td>\n",
       "    </tr>\n",
       "    <tr>\n",
       "      <th>4</th>\n",
       "      <td>2023</td>\n",
       "      <td>10</td>\n",
       "      <td>3</td>\n",
       "      <td>4</td>\n",
       "      <td>27.15</td>\n",
       "      <td>6.23</td>\n",
       "      <td>75.38</td>\n",
       "      <td>0.01</td>\n",
       "      <td>-0.1625</td>\n",
       "      <td>94.4095</td>\n",
       "    </tr>\n",
       "    <tr>\n",
       "      <th>...</th>\n",
       "      <td>...</td>\n",
       "      <td>...</td>\n",
       "      <td>...</td>\n",
       "      <td>...</td>\n",
       "      <td>...</td>\n",
       "      <td>...</td>\n",
       "      <td>...</td>\n",
       "      <td>...</td>\n",
       "      <td>...</td>\n",
       "      <td>...</td>\n",
       "    </tr>\n",
       "    <tr>\n",
       "      <th>28899355</th>\n",
       "      <td>2024</td>\n",
       "      <td>10</td>\n",
       "      <td>2</td>\n",
       "      <td>19</td>\n",
       "      <td>29.15</td>\n",
       "      <td>1.57</td>\n",
       "      <td>74.50</td>\n",
       "      <td>0.02</td>\n",
       "      <td>5.8375</td>\n",
       "      <td>140.9095</td>\n",
       "    </tr>\n",
       "    <tr>\n",
       "      <th>28899356</th>\n",
       "      <td>2024</td>\n",
       "      <td>10</td>\n",
       "      <td>2</td>\n",
       "      <td>20</td>\n",
       "      <td>29.16</td>\n",
       "      <td>1.80</td>\n",
       "      <td>74.94</td>\n",
       "      <td>0.01</td>\n",
       "      <td>5.8375</td>\n",
       "      <td>140.9095</td>\n",
       "    </tr>\n",
       "    <tr>\n",
       "      <th>28899357</th>\n",
       "      <td>2024</td>\n",
       "      <td>10</td>\n",
       "      <td>2</td>\n",
       "      <td>21</td>\n",
       "      <td>29.25</td>\n",
       "      <td>2.20</td>\n",
       "      <td>75.56</td>\n",
       "      <td>0.03</td>\n",
       "      <td>5.8375</td>\n",
       "      <td>140.9095</td>\n",
       "    </tr>\n",
       "    <tr>\n",
       "      <th>28899358</th>\n",
       "      <td>2024</td>\n",
       "      <td>10</td>\n",
       "      <td>2</td>\n",
       "      <td>22</td>\n",
       "      <td>29.25</td>\n",
       "      <td>2.59</td>\n",
       "      <td>76.44</td>\n",
       "      <td>0.02</td>\n",
       "      <td>5.8375</td>\n",
       "      <td>140.9095</td>\n",
       "    </tr>\n",
       "    <tr>\n",
       "      <th>28899359</th>\n",
       "      <td>2024</td>\n",
       "      <td>10</td>\n",
       "      <td>2</td>\n",
       "      <td>23</td>\n",
       "      <td>29.24</td>\n",
       "      <td>2.97</td>\n",
       "      <td>77.25</td>\n",
       "      <td>0.03</td>\n",
       "      <td>5.8375</td>\n",
       "      <td>140.9095</td>\n",
       "    </tr>\n",
       "  </tbody>\n",
       "</table>\n",
       "<p>28899360 rows × 10 columns</p>\n",
       "</div>"
      ],
      "text/plain": [
       "          YEAR  MO  DY  HR    T2M  WS2M   RH2M  PRECTOTCORR     LAT      LONG\n",
       "0         2023  10   3   0  27.31  6.12  75.62         0.01 -0.1625   94.4095\n",
       "1         2023  10   3   1  27.23  5.98  75.44         0.01 -0.1625   94.4095\n",
       "2         2023  10   3   2  27.18  5.88  75.12         0.00 -0.1625   94.4095\n",
       "3         2023  10   3   3  27.15  5.99  75.19         0.01 -0.1625   94.4095\n",
       "4         2023  10   3   4  27.15  6.23  75.38         0.01 -0.1625   94.4095\n",
       "...        ...  ..  ..  ..    ...   ...    ...          ...     ...       ...\n",
       "28899355  2024  10   2  19  29.15  1.57  74.50         0.02  5.8375  140.9095\n",
       "28899356  2024  10   2  20  29.16  1.80  74.94         0.01  5.8375  140.9095\n",
       "28899357  2024  10   2  21  29.25  2.20  75.56         0.03  5.8375  140.9095\n",
       "28899358  2024  10   2  22  29.25  2.59  76.44         0.02  5.8375  140.9095\n",
       "28899359  2024  10   2  23  29.24  2.97  77.25         0.03  5.8375  140.9095\n",
       "\n",
       "[28899360 rows x 10 columns]"
      ]
     },
     "execution_count": 16,
     "metadata": {},
     "output_type": "execute_result"
    }
   ],
   "source": [
    "one_year_data"
   ]
  },
  {
   "cell_type": "code",
   "execution_count": null,
   "metadata": {},
   "outputs": [],
   "source": []
  }
 ],
 "metadata": {
  "kernelspec": {
   "display_name": "Python 3",
   "language": "python",
   "name": "python3"
  },
  "language_info": {
   "codemirror_mode": {
    "name": "ipython",
    "version": 3
   },
   "file_extension": ".py",
   "mimetype": "text/x-python",
   "name": "python",
   "nbconvert_exporter": "python",
   "pygments_lexer": "ipython3",
   "version": "3.11.5"
  }
 },
 "nbformat": 4,
 "nbformat_minor": 2
}
